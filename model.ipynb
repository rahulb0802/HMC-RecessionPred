{
 "cells": [
  {
   "cell_type": "code",
   "execution_count": 1,
   "id": "ef313f48-090b-4cc9-8bdb-3b3db9a71410",
   "metadata": {},
   "outputs": [
    {
     "name": "stderr",
     "output_type": "stream",
     "text": [
      "Seed set to 0\n"
     ]
    }
   ],
   "source": [
    "import numpy as np, pandas as pd\n",
    "from matplotlib.pyplot import subplots\n",
    "from sklearn.linear_model import (LinearRegression, LogisticRegression, Lasso)\n",
    "from sklearn.preprocessing import StandardScaler, MinMaxScaler\n",
    "from sklearn.model_selection import KFold\n",
    "from sklearn.pipeline import Pipeline\n",
    "from sklearn.metrics import accuracy_score, recall_score, precision_score, f1_score, precision_recall_curve\n",
    "from ISLP import load_data, confusion_table\n",
    "from ISLP.models import ModelSpec as MS\n",
    "from sklearn.model_selection import (train_test_split, GridSearchCV)\n",
    "import torch\n",
    "from torch import nn\n",
    "import torch.nn.functional as F\n",
    "from torch.optim import RMSprop\n",
    "from torch.utils.data import TensorDataset, DataLoader\n",
    "from torchinfo import summary\n",
    "from pytorch_lightning import Trainer\n",
    "from pytorch_lightning.loggers import CSVLogger\n",
    "from pytorch_lightning import seed_everything\n",
    "seed_everything(0, workers=True)\n",
    "torch.use_deterministic_algorithms(True, warn_only=True)\n",
    "from ISLP.torch import (SimpleDataModule, SimpleModule, ErrorTracker, rec_num_workers)"
   ]
  },
  {
   "cell_type": "markdown",
   "id": "397707d5-191d-4059-ae97-0cc1f550ee65",
   "metadata": {},
   "source": [
    "## Loading data"
   ]
  },
  {
   "cell_type": "code",
   "execution_count": 2,
   "id": "806cf5a0-dcf0-4364-ad31-c96b1287c444",
   "metadata": {},
   "outputs": [
    {
     "data": {
      "text/html": [
       "<div>\n",
       "<style scoped>\n",
       "    .dataframe tbody tr th:only-of-type {\n",
       "        vertical-align: middle;\n",
       "    }\n",
       "\n",
       "    .dataframe tbody tr th {\n",
       "        vertical-align: top;\n",
       "    }\n",
       "\n",
       "    .dataframe thead th {\n",
       "        text-align: right;\n",
       "    }\n",
       "</style>\n",
       "<table border=\"1\" class=\"dataframe\">\n",
       "  <thead>\n",
       "    <tr style=\"text-align: right;\">\n",
       "      <th></th>\n",
       "      <th>DATE</th>\n",
       "      <th>UNRATE</th>\n",
       "    </tr>\n",
       "  </thead>\n",
       "  <tbody>\n",
       "    <tr>\n",
       "      <th>0</th>\n",
       "      <td>1948-01-01</td>\n",
       "      <td>3.4</td>\n",
       "    </tr>\n",
       "    <tr>\n",
       "      <th>1</th>\n",
       "      <td>1948-02-01</td>\n",
       "      <td>3.8</td>\n",
       "    </tr>\n",
       "    <tr>\n",
       "      <th>2</th>\n",
       "      <td>1948-03-01</td>\n",
       "      <td>4.0</td>\n",
       "    </tr>\n",
       "    <tr>\n",
       "      <th>3</th>\n",
       "      <td>1948-04-01</td>\n",
       "      <td>3.9</td>\n",
       "    </tr>\n",
       "    <tr>\n",
       "      <th>4</th>\n",
       "      <td>1948-05-01</td>\n",
       "      <td>3.5</td>\n",
       "    </tr>\n",
       "    <tr>\n",
       "      <th>...</th>\n",
       "      <td>...</td>\n",
       "      <td>...</td>\n",
       "    </tr>\n",
       "    <tr>\n",
       "      <th>917</th>\n",
       "      <td>2024-06-01</td>\n",
       "      <td>4.1</td>\n",
       "    </tr>\n",
       "    <tr>\n",
       "      <th>918</th>\n",
       "      <td>2024-07-01</td>\n",
       "      <td>4.3</td>\n",
       "    </tr>\n",
       "    <tr>\n",
       "      <th>919</th>\n",
       "      <td>2024-08-01</td>\n",
       "      <td>4.2</td>\n",
       "    </tr>\n",
       "    <tr>\n",
       "      <th>920</th>\n",
       "      <td>2024-09-01</td>\n",
       "      <td>4.1</td>\n",
       "    </tr>\n",
       "    <tr>\n",
       "      <th>921</th>\n",
       "      <td>2024-10-01</td>\n",
       "      <td>4.1</td>\n",
       "    </tr>\n",
       "  </tbody>\n",
       "</table>\n",
       "<p>922 rows × 2 columns</p>\n",
       "</div>"
      ],
      "text/plain": [
       "           DATE  UNRATE\n",
       "0    1948-01-01     3.4\n",
       "1    1948-02-01     3.8\n",
       "2    1948-03-01     4.0\n",
       "3    1948-04-01     3.9\n",
       "4    1948-05-01     3.5\n",
       "..          ...     ...\n",
       "917  2024-06-01     4.1\n",
       "918  2024-07-01     4.3\n",
       "919  2024-08-01     4.2\n",
       "920  2024-09-01     4.1\n",
       "921  2024-10-01     4.1\n",
       "\n",
       "[922 rows x 2 columns]"
      ]
     },
     "execution_count": 2,
     "metadata": {},
     "output_type": "execute_result"
    }
   ],
   "source": [
    "unrate = pd.read_csv('UNRATE.csv')\n",
    "unrate"
   ]
  },
  {
   "cell_type": "markdown",
   "id": "c785bc17-b9ef-4967-ac69-0042e606224e",
   "metadata": {},
   "source": [
    "## Processing data"
   ]
  },
  {
   "cell_type": "code",
   "execution_count": 3,
   "id": "2d1a60f1-25fe-4498-98d6-3e51683af12f",
   "metadata": {},
   "outputs": [
    {
     "data": {
      "text/html": [
       "<div>\n",
       "<style scoped>\n",
       "    .dataframe tbody tr th:only-of-type {\n",
       "        vertical-align: middle;\n",
       "    }\n",
       "\n",
       "    .dataframe tbody tr th {\n",
       "        vertical-align: top;\n",
       "    }\n",
       "\n",
       "    .dataframe thead th {\n",
       "        text-align: right;\n",
       "    }\n",
       "</style>\n",
       "<table border=\"1\" class=\"dataframe\">\n",
       "  <thead>\n",
       "    <tr style=\"text-align: right;\">\n",
       "      <th></th>\n",
       "      <th>UNRATE</th>\n",
       "    </tr>\n",
       "    <tr>\n",
       "      <th>DATE</th>\n",
       "      <th></th>\n",
       "    </tr>\n",
       "  </thead>\n",
       "  <tbody>\n",
       "    <tr>\n",
       "      <th>1948-01-01</th>\n",
       "      <td>3.4</td>\n",
       "    </tr>\n",
       "    <tr>\n",
       "      <th>1948-02-01</th>\n",
       "      <td>3.8</td>\n",
       "    </tr>\n",
       "    <tr>\n",
       "      <th>1948-03-01</th>\n",
       "      <td>4.0</td>\n",
       "    </tr>\n",
       "    <tr>\n",
       "      <th>1948-04-01</th>\n",
       "      <td>3.9</td>\n",
       "    </tr>\n",
       "    <tr>\n",
       "      <th>1948-05-01</th>\n",
       "      <td>3.5</td>\n",
       "    </tr>\n",
       "    <tr>\n",
       "      <th>...</th>\n",
       "      <td>...</td>\n",
       "    </tr>\n",
       "    <tr>\n",
       "      <th>2024-06-01</th>\n",
       "      <td>4.1</td>\n",
       "    </tr>\n",
       "    <tr>\n",
       "      <th>2024-07-01</th>\n",
       "      <td>4.3</td>\n",
       "    </tr>\n",
       "    <tr>\n",
       "      <th>2024-08-01</th>\n",
       "      <td>4.2</td>\n",
       "    </tr>\n",
       "    <tr>\n",
       "      <th>2024-09-01</th>\n",
       "      <td>4.1</td>\n",
       "    </tr>\n",
       "    <tr>\n",
       "      <th>2024-10-01</th>\n",
       "      <td>4.1</td>\n",
       "    </tr>\n",
       "  </tbody>\n",
       "</table>\n",
       "<p>922 rows × 1 columns</p>\n",
       "</div>"
      ],
      "text/plain": [
       "            UNRATE\n",
       "DATE              \n",
       "1948-01-01     3.4\n",
       "1948-02-01     3.8\n",
       "1948-03-01     4.0\n",
       "1948-04-01     3.9\n",
       "1948-05-01     3.5\n",
       "...            ...\n",
       "2024-06-01     4.1\n",
       "2024-07-01     4.3\n",
       "2024-08-01     4.2\n",
       "2024-09-01     4.1\n",
       "2024-10-01     4.1\n",
       "\n",
       "[922 rows x 1 columns]"
      ]
     },
     "execution_count": 3,
     "metadata": {},
     "output_type": "execute_result"
    }
   ],
   "source": [
    "unrate['DATE'] = pd.to_datetime(unrate['DATE'])\n",
    "unrate.set_index('DATE', inplace=True)\n",
    "unrate"
   ]
  },
  {
   "cell_type": "code",
   "execution_count": 4,
   "id": "c8a05d2a-cc41-4ade-9b76-70ff710f3adf",
   "metadata": {},
   "outputs": [],
   "source": [
    "scaler = MinMaxScaler()\n",
    "unrate['UNRATE'] = scaler.fit_transform(unrate[['UNRATE']])"
   ]
  },
  {
   "cell_type": "code",
   "execution_count": 5,
   "id": "9a51738b-cece-4b9a-9c14-6aa548634644",
   "metadata": {},
   "outputs": [
    {
     "data": {
      "text/html": [
       "<div>\n",
       "<style scoped>\n",
       "    .dataframe tbody tr th:only-of-type {\n",
       "        vertical-align: middle;\n",
       "    }\n",
       "\n",
       "    .dataframe tbody tr th {\n",
       "        vertical-align: top;\n",
       "    }\n",
       "\n",
       "    .dataframe thead th {\n",
       "        text-align: right;\n",
       "    }\n",
       "</style>\n",
       "<table border=\"1\" class=\"dataframe\">\n",
       "  <thead>\n",
       "    <tr style=\"text-align: right;\">\n",
       "      <th></th>\n",
       "      <th>UNRATE</th>\n",
       "    </tr>\n",
       "    <tr>\n",
       "      <th>DATE</th>\n",
       "      <th></th>\n",
       "    </tr>\n",
       "  </thead>\n",
       "  <tbody>\n",
       "    <tr>\n",
       "      <th>1948-01-01</th>\n",
       "      <td>0.073171</td>\n",
       "    </tr>\n",
       "    <tr>\n",
       "      <th>1948-02-01</th>\n",
       "      <td>0.105691</td>\n",
       "    </tr>\n",
       "    <tr>\n",
       "      <th>1948-03-01</th>\n",
       "      <td>0.121951</td>\n",
       "    </tr>\n",
       "    <tr>\n",
       "      <th>1948-04-01</th>\n",
       "      <td>0.113821</td>\n",
       "    </tr>\n",
       "    <tr>\n",
       "      <th>1948-05-01</th>\n",
       "      <td>0.081301</td>\n",
       "    </tr>\n",
       "    <tr>\n",
       "      <th>...</th>\n",
       "      <td>...</td>\n",
       "    </tr>\n",
       "    <tr>\n",
       "      <th>2024-06-01</th>\n",
       "      <td>0.130081</td>\n",
       "    </tr>\n",
       "    <tr>\n",
       "      <th>2024-07-01</th>\n",
       "      <td>0.146341</td>\n",
       "    </tr>\n",
       "    <tr>\n",
       "      <th>2024-08-01</th>\n",
       "      <td>0.138211</td>\n",
       "    </tr>\n",
       "    <tr>\n",
       "      <th>2024-09-01</th>\n",
       "      <td>0.130081</td>\n",
       "    </tr>\n",
       "    <tr>\n",
       "      <th>2024-10-01</th>\n",
       "      <td>0.130081</td>\n",
       "    </tr>\n",
       "  </tbody>\n",
       "</table>\n",
       "<p>922 rows × 1 columns</p>\n",
       "</div>"
      ],
      "text/plain": [
       "              UNRATE\n",
       "DATE                \n",
       "1948-01-01  0.073171\n",
       "1948-02-01  0.105691\n",
       "1948-03-01  0.121951\n",
       "1948-04-01  0.113821\n",
       "1948-05-01  0.081301\n",
       "...              ...\n",
       "2024-06-01  0.130081\n",
       "2024-07-01  0.146341\n",
       "2024-08-01  0.138211\n",
       "2024-09-01  0.130081\n",
       "2024-10-01  0.130081\n",
       "\n",
       "[922 rows x 1 columns]"
      ]
     },
     "execution_count": 5,
     "metadata": {},
     "output_type": "execute_result"
    }
   ],
   "source": [
    "unrate"
   ]
  },
  {
   "cell_type": "code",
   "execution_count": 6,
   "id": "0f2168c4-49d0-4e6e-ae5a-60f1bf1862bd",
   "metadata": {},
   "outputs": [],
   "source": [
    "nber_recessions = [\n",
    "    ('1948-12-01', '1949-10-31'),\n",
    "    ('1953-08-01', '1954-05-31'),\n",
    "    ('1957-09-01', '1958-04-30'),\n",
    "    ('1960-05-01', '1961-02-28'),\n",
    "    ('1970-01-01', '1970-11-30'),\n",
    "    ('1973-12-01', '1975-03-31'),\n",
    "    ('1980-02-01', '1980-07-31'),\n",
    "    ('1981-08-01', '1982-11-30'),\n",
    "    ('1990-07-01', '1991-03-31'),  \n",
    "    ('2008-01-01', '2009-06-30'),\n",
    "    ('2020-03-01', '2020-04-30')\n",
    "]\n",
    "nber_recessions = [(pd.Timestamp(start), pd.Timestamp(end)) for start, end in nber_recessions]"
   ]
  },
  {
   "cell_type": "code",
   "execution_count": 7,
   "id": "e36fc39c-77ea-4f4d-94eb-5da7cc0ff9d7",
   "metadata": {},
   "outputs": [
    {
     "data": {
      "text/plain": [
       "[(Timestamp('1948-12-01 00:00:00'), Timestamp('1949-10-31 00:00:00')),\n",
       " (Timestamp('1953-08-01 00:00:00'), Timestamp('1954-05-31 00:00:00')),\n",
       " (Timestamp('1957-09-01 00:00:00'), Timestamp('1958-04-30 00:00:00')),\n",
       " (Timestamp('1960-05-01 00:00:00'), Timestamp('1961-02-28 00:00:00')),\n",
       " (Timestamp('1970-01-01 00:00:00'), Timestamp('1970-11-30 00:00:00')),\n",
       " (Timestamp('1973-12-01 00:00:00'), Timestamp('1975-03-31 00:00:00')),\n",
       " (Timestamp('1980-02-01 00:00:00'), Timestamp('1980-07-31 00:00:00')),\n",
       " (Timestamp('1981-08-01 00:00:00'), Timestamp('1982-11-30 00:00:00')),\n",
       " (Timestamp('1990-07-01 00:00:00'), Timestamp('1991-03-31 00:00:00')),\n",
       " (Timestamp('2008-01-01 00:00:00'), Timestamp('2009-06-30 00:00:00')),\n",
       " (Timestamp('2020-03-01 00:00:00'), Timestamp('2020-04-30 00:00:00'))]"
      ]
     },
     "execution_count": 7,
     "metadata": {},
     "output_type": "execute_result"
    }
   ],
   "source": [
    "nber_recessions"
   ]
  },
  {
   "cell_type": "markdown",
   "id": "32502f47-a13c-4b1a-b006-c7f4edfb66d6",
   "metadata": {},
   "source": [
    "labeling recessions"
   ]
  },
  {
   "cell_type": "code",
   "execution_count": 8,
   "id": "188478b0-2c28-41c3-bdec-46a1ec391eee",
   "metadata": {},
   "outputs": [
    {
     "data": {
      "text/html": [
       "<div>\n",
       "<style scoped>\n",
       "    .dataframe tbody tr th:only-of-type {\n",
       "        vertical-align: middle;\n",
       "    }\n",
       "\n",
       "    .dataframe tbody tr th {\n",
       "        vertical-align: top;\n",
       "    }\n",
       "\n",
       "    .dataframe thead th {\n",
       "        text-align: right;\n",
       "    }\n",
       "</style>\n",
       "<table border=\"1\" class=\"dataframe\">\n",
       "  <thead>\n",
       "    <tr style=\"text-align: right;\">\n",
       "      <th></th>\n",
       "      <th>UNRATE</th>\n",
       "      <th>RECESSION</th>\n",
       "    </tr>\n",
       "    <tr>\n",
       "      <th>DATE</th>\n",
       "      <th></th>\n",
       "      <th></th>\n",
       "    </tr>\n",
       "  </thead>\n",
       "  <tbody>\n",
       "    <tr>\n",
       "      <th>1948-01-01</th>\n",
       "      <td>0.073171</td>\n",
       "      <td>0</td>\n",
       "    </tr>\n",
       "    <tr>\n",
       "      <th>1948-02-01</th>\n",
       "      <td>0.105691</td>\n",
       "      <td>0</td>\n",
       "    </tr>\n",
       "    <tr>\n",
       "      <th>1948-03-01</th>\n",
       "      <td>0.121951</td>\n",
       "      <td>0</td>\n",
       "    </tr>\n",
       "    <tr>\n",
       "      <th>1948-04-01</th>\n",
       "      <td>0.113821</td>\n",
       "      <td>0</td>\n",
       "    </tr>\n",
       "    <tr>\n",
       "      <th>1948-05-01</th>\n",
       "      <td>0.081301</td>\n",
       "      <td>0</td>\n",
       "    </tr>\n",
       "    <tr>\n",
       "      <th>...</th>\n",
       "      <td>...</td>\n",
       "      <td>...</td>\n",
       "    </tr>\n",
       "    <tr>\n",
       "      <th>2024-06-01</th>\n",
       "      <td>0.130081</td>\n",
       "      <td>0</td>\n",
       "    </tr>\n",
       "    <tr>\n",
       "      <th>2024-07-01</th>\n",
       "      <td>0.146341</td>\n",
       "      <td>0</td>\n",
       "    </tr>\n",
       "    <tr>\n",
       "      <th>2024-08-01</th>\n",
       "      <td>0.138211</td>\n",
       "      <td>0</td>\n",
       "    </tr>\n",
       "    <tr>\n",
       "      <th>2024-09-01</th>\n",
       "      <td>0.130081</td>\n",
       "      <td>0</td>\n",
       "    </tr>\n",
       "    <tr>\n",
       "      <th>2024-10-01</th>\n",
       "      <td>0.130081</td>\n",
       "      <td>0</td>\n",
       "    </tr>\n",
       "  </tbody>\n",
       "</table>\n",
       "<p>922 rows × 2 columns</p>\n",
       "</div>"
      ],
      "text/plain": [
       "              UNRATE  RECESSION\n",
       "DATE                           \n",
       "1948-01-01  0.073171          0\n",
       "1948-02-01  0.105691          0\n",
       "1948-03-01  0.121951          0\n",
       "1948-04-01  0.113821          0\n",
       "1948-05-01  0.081301          0\n",
       "...              ...        ...\n",
       "2024-06-01  0.130081          0\n",
       "2024-07-01  0.146341          0\n",
       "2024-08-01  0.138211          0\n",
       "2024-09-01  0.130081          0\n",
       "2024-10-01  0.130081          0\n",
       "\n",
       "[922 rows x 2 columns]"
      ]
     },
     "execution_count": 8,
     "metadata": {},
     "output_type": "execute_result"
    }
   ],
   "source": [
    "def label_recession(row, recessions):\n",
    "    for start, end in recessions:\n",
    "        if start <= row.name <= end:\n",
    "            return 1\n",
    "    return 0\n",
    "\n",
    "unrate['RECESSION'] = unrate.apply(lambda row: label_recession(row, nber_recessions), axis=1)\n",
    "unrate"
   ]
  },
  {
   "cell_type": "code",
   "execution_count": 9,
   "id": "4c3c5502-76b2-46a9-a069-bf5a75e6eab1",
   "metadata": {},
   "outputs": [
    {
     "data": {
      "text/plain": [
       "<matplotlib.legend.Legend at 0x2604e8dfe50>"
      ]
     },
     "execution_count": 9,
     "metadata": {},
     "output_type": "execute_result"
    },
    {
     "data": {
      "image/png": "[encoded data removed]",
      "text/plain": [
       "<Figure size 2000x800 with 1 Axes>"
      ]
     },
     "metadata": {},
     "output_type": "display_data"
    }
   ],
   "source": [
    "fig, ax = subplots(figsize=(20, 8))\n",
    "ax.plot(unrate.index, unrate['UNRATE'], label='Unemployment Rate')\n",
    "ax.fill_between(unrate.index, 0, 1, where=unrate['RECESSION'] == 1, \n",
    "                 color='red', alpha=0.3, label='Recession')\n",
    "ax.legend()"
   ]
  },
  {
   "cell_type": "markdown",
   "id": "b8ad7274-7ac4-4831-b51c-7ffdc951879c",
   "metadata": {},
   "source": [
    "Splitting data into train and test"
   ]
  },
  {
   "cell_type": "code",
   "execution_count": 10,
   "id": "bfb8fd09-976c-4f66-bc4e-dfc584d117d7",
   "metadata": {},
   "outputs": [],
   "source": [
    "split_index = int(len(unrate) * 0.8) \n",
    "unrate_train = unrate.iloc[:split_index]\n",
    "unrate_test = unrate.iloc[split_index:]"
   ]
  },
  {
   "cell_type": "markdown",
   "id": "e769b420-05d1-4358-9735-dbae4e9e4124",
   "metadata": {},
   "source": [
    "## Creating sequences for LSTM"
   ]
  },
  {
   "cell_type": "code",
   "execution_count": 11,
   "id": "ea46714c-bc7c-4e90-8f37-eefb38d00f7f",
   "metadata": {},
   "outputs": [],
   "source": [
    "def create_sequences(data, sequence_length):\n",
    "    X, y = [], []\n",
    "    for i in range(len(data) - sequence_length):\n",
    "        X.append(data['UNRATE'].iloc[i:i+sequence_length].values)\n",
    "        y.append(data['RECESSION'].iloc[i+sequence_length])\n",
    "    return np.array(X), np.array(y)"
   ]
  },
  {
   "cell_type": "code",
   "execution_count": 12,
   "id": "2534cb4b-6cfa-4e49-9a22-bf9e8be503ac",
   "metadata": {},
   "outputs": [],
   "source": [
    "sequence_length = 12 # 12 months\n",
    "X_train, y_train = create_sequences(unrate_train, sequence_length)\n",
    "X_test, y_test = create_sequences(unrate_test, sequence_length)"
   ]
  },
  {
   "cell_type": "markdown",
   "id": "039d7f4d-94cb-4d8e-be2e-81db5539888a",
   "metadata": {},
   "source": [
    "## Building model"
   ]
  },
  {
   "cell_type": "code",
   "execution_count": 13,
   "id": "e6d12afa-6bd5-4224-8991-3cfb55d095f9",
   "metadata": {},
   "outputs": [],
   "source": [
    "X_train = X_train.reshape((X_train.shape[0], X_train.shape[1], 1)) \n",
    "X_test = X_test.reshape((X_test.shape[0], X_test.shape[1], 1))"
   ]
  },
  {
   "cell_type": "code",
   "execution_count": 14,
   "id": "b42793c4-f039-46c0-8e9b-651da45d7bd2",
   "metadata": {},
   "outputs": [],
   "source": [
    "class RecessionPredictor(nn.Module):\n",
    "    def __init__(self):\n",
    "        super(RecessionPredictor, self).__init__()\n",
    "        self.lstm = nn.LSTM(input_size=1, hidden_size=50, num_layers=2, batch_first=True, dropout=0.2)\n",
    "        self.dense = nn.Linear(50, 1)\n",
    "    def forward(self, x):\n",
    "        lstm_out, _ = self.lstm(x)\n",
    "        lstm_out = lstm_out[:, -1, :]\n",
    "        output = self.dense(lstm_out)\n",
    "        return output"
   ]
  },
  {
   "cell_type": "code",
   "execution_count": 15,
   "id": "aaa1b52a-d0f7-4962-a670-582b01612681",
   "metadata": {},
   "outputs": [],
   "source": [
    "train_dataset = TensorDataset(torch.Tensor(X_train).unsqueeze(-1), torch.Tensor(y_train))\n",
    "train_loader = DataLoader(train_dataset, batch_size=32, shuffle=True)\n",
    "\n",
    "test_dataset = TensorDataset(torch.Tensor(X_test).unsqueeze(-1), torch.Tensor(y_test))\n",
    "test_loader = DataLoader(test_dataset, batch_size=32, shuffle=False)"
   ]
  },
  {
   "cell_type": "code",
   "execution_count": 16,
   "id": "f3768f9a-fc30-4628-a964-d2684af7c1a9",
   "metadata": {},
   "outputs": [],
   "source": [
    "model = RecessionPredictor()"
   ]
  },
  {
   "cell_type": "code",
   "execution_count": 17,
   "id": "5f40eb19-cded-495a-a67b-f66a06dfd01d",
   "metadata": {},
   "outputs": [
    {
     "data": {
      "text/plain": [
       "===================================================================================================================\n",
       "Layer (type:depth-idx)                   Input Shape               Output Shape              Param #\n",
       "===================================================================================================================\n",
       "RecessionPredictor                       [725, 12, 1]              [725, 1]                  --\n",
       "├─LSTM: 1-1                              [725, 12, 1]              [725, 12, 50]             31,000\n",
       "├─Linear: 1-2                            [725, 50]                 [725, 1]                  51\n",
       "===================================================================================================================\n",
       "Total params: 31,051\n",
       "Trainable params: 31,051\n",
       "Non-trainable params: 0\n",
       "Total mult-adds (Units.MEGABYTES): 269.74\n",
       "===================================================================================================================\n",
       "Input size (MB): 0.03\n",
       "Forward/backward pass size (MB): 3.49\n",
       "Params size (MB): 0.12\n",
       "Estimated Total Size (MB): 3.64\n",
       "==================================================================================================================="
      ]
     },
     "execution_count": 17,
     "metadata": {},
     "output_type": "execute_result"
    }
   ],
   "source": [
    "summary(model, input_size=X_train.shape, col_names=['input_size', 'output_size', 'num_params'])"
   ]
  },
  {
   "cell_type": "code",
   "execution_count": 18,
   "id": "70753b60-e8a8-43ad-b591-14097746fa23",
   "metadata": {},
   "outputs": [],
   "source": [
    "criterion = nn.BCELoss()\n",
    "optimizer = torch.optim.Adam(model.parameters(), lr=0.001)"
   ]
  },
  {
   "cell_type": "markdown",
   "id": "0732b8c6-2246-4977-b667-0b5592151eaa",
   "metadata": {},
   "source": [
    "#### Training loop"
   ]
  },
  {
   "cell_type": "code",
   "execution_count": 35,
   "id": "b93f70ad-afca-4a75-bdfb-e02421e9e463",
   "metadata": {},
   "outputs": [],
   "source": [
    "def train_improved_model(model, train_loader, test_loader, num_epochs=20, learning_rate=0.001):\n",
    "    optimizer = torch.optim.Adam(model.parameters(), lr=learning_rate)\n",
    "    scheduler = torch.optim.lr_scheduler.StepLR(optimizer, step_size=10, gamma=0.5)  # Reduce LR over time\n",
    "    \n",
    "    for epoch in range(num_epochs):\n",
    "        model.train()\n",
    "        total_loss = 0\n",
    "        \n",
    "        for X_batch, y_batch in train_loader:\n",
    "            optimizer.zero_grad()\n",
    "            X_batch = X_batch.squeeze(-1)\n",
    "            outputs = model(X_batch)\n",
    "            loss = F.binary_cross_entropy_with_logits(outputs.squeeze(), y_batch, pos_weight=torch.tensor(2.0))\n",
    "            loss.backward()\n",
    "            optimizer.step()\n",
    "            total_loss += loss.item()\n",
    "        \n",
    "        \n",
    "        scheduler.step()\n",
    "        \n",
    "        \n",
    "        model.eval()\n",
    "        y_preds, y_actuals = [], []\n",
    "        with torch.no_grad():\n",
    "            for X_batch, y_batch in test_loader:\n",
    "                X_batch = X_batch.squeeze(-1)\n",
    "                outputs = model(X_batch)\n",
    "                preds = torch.sigmoid(outputs).squeeze() > 0.25  \n",
    "                y_preds.extend(preds.cpu().numpy())\n",
    "                y_actuals.extend(y_batch.cpu().numpy())\n",
    "        \n",
    "        \n",
    "        \n",
    "        precision = precision_score(y_actuals, y_preds, zero_division=0)\n",
    "        recall = recall_score(y_actuals, y_preds)\n",
    "        f1 = f1_score(y_actuals, y_preds)\n",
    "        \n",
    "        print(f\"Epoch {epoch + 1}/{num_epochs}, Loss: {total_loss:.4f}, Precision: {precision:.4f}, Recall: {recall:.4f}, F1: {f1:.4f}\")\n",
    "    accuracy = accuracy_score(y_actuals, y_preds)\n",
    "    print(f\"Accuracy: {accuracy:.4f}\")"
   ]
  },
  {
   "cell_type": "code",
   "execution_count": 36,
   "id": "e8ba86e0-2728-446a-acf7-962fdeb6ed8c",
   "metadata": {},
   "outputs": [
    {
     "name": "stdout",
     "output_type": "stream",
     "text": [
      "Epoch 1/50, Loss: 10.0349, Precision: 0.0123, Recall: 0.5000, F1: 0.0241\n",
      "Epoch 2/50, Loss: 9.2163, Precision: 0.0345, Recall: 0.5000, F1: 0.0645\n",
      "Epoch 3/50, Loss: 8.8016, Precision: 0.0500, Recall: 1.0000, F1: 0.0952\n",
      "Epoch 4/50, Loss: 9.2270, Precision: 0.0455, Recall: 1.0000, F1: 0.0870\n",
      "Epoch 5/50, Loss: 9.2363, Precision: 0.0303, Recall: 0.5000, F1: 0.0571\n",
      "Epoch 6/50, Loss: 8.5522, Precision: 0.0370, Recall: 0.5000, F1: 0.0690\n",
      "Epoch 7/50, Loss: 8.4618, Precision: 0.0435, Recall: 1.0000, F1: 0.0833\n",
      "Epoch 8/50, Loss: 9.1629, Precision: 0.0308, Recall: 1.0000, F1: 0.0597\n",
      "Epoch 9/50, Loss: 9.4925, Precision: 0.0645, Recall: 1.0000, F1: 0.1212\n",
      "Epoch 10/50, Loss: 9.1121, Precision: 0.0312, Recall: 0.5000, F1: 0.0588\n",
      "Epoch 11/50, Loss: 8.4456, Precision: 0.0172, Recall: 0.5000, F1: 0.0333\n",
      "Epoch 12/50, Loss: 8.5245, Precision: 0.0244, Recall: 0.5000, F1: 0.0465\n",
      "Epoch 13/50, Loss: 7.9304, Precision: 0.0286, Recall: 0.5000, F1: 0.0541\n",
      "Epoch 14/50, Loss: 8.0399, Precision: 0.0000, Recall: 0.0000, F1: 0.0000\n",
      "Epoch 15/50, Loss: 8.0972, Precision: 0.0238, Recall: 0.5000, F1: 0.0455\n",
      "Epoch 16/50, Loss: 7.9804, Precision: 0.0000, Recall: 0.0000, F1: 0.0000\n",
      "Epoch 17/50, Loss: 7.8677, Precision: 0.0000, Recall: 0.0000, F1: 0.0000\n",
      "Epoch 18/50, Loss: 7.8419, Precision: 0.0000, Recall: 0.0000, F1: 0.0000\n",
      "Epoch 19/50, Loss: 7.9203, Precision: 0.0270, Recall: 0.5000, F1: 0.0513\n",
      "Epoch 20/50, Loss: 8.1726, Precision: 0.0156, Recall: 0.5000, F1: 0.0303\n",
      "Epoch 21/50, Loss: 7.7897, Precision: 0.0213, Recall: 0.5000, F1: 0.0408\n",
      "Epoch 22/50, Loss: 7.6074, Precision: 0.0333, Recall: 0.5000, F1: 0.0625\n",
      "Epoch 23/50, Loss: 7.3500, Precision: 0.0256, Recall: 0.5000, F1: 0.0488\n",
      "Epoch 24/50, Loss: 7.4322, Precision: 0.0312, Recall: 0.5000, F1: 0.0588\n",
      "Epoch 25/50, Loss: 7.4610, Precision: 0.0357, Recall: 0.5000, F1: 0.0667\n",
      "Epoch 26/50, Loss: 7.6932, Precision: 0.0294, Recall: 0.5000, F1: 0.0556\n",
      "Epoch 27/50, Loss: 7.3866, Precision: 0.0238, Recall: 0.5000, F1: 0.0455\n",
      "Epoch 28/50, Loss: 7.0041, Precision: 0.0333, Recall: 0.5000, F1: 0.0625\n",
      "Epoch 29/50, Loss: 7.2613, Precision: 0.0196, Recall: 0.5000, F1: 0.0377\n",
      "Epoch 30/50, Loss: 7.5289, Precision: 0.0323, Recall: 0.5000, F1: 0.0606\n",
      "Epoch 31/50, Loss: 7.2752, Precision: 0.0263, Recall: 0.5000, F1: 0.0500\n",
      "Epoch 32/50, Loss: 7.1187, Precision: 0.0312, Recall: 0.5000, F1: 0.0588\n",
      "Epoch 33/50, Loss: 7.0129, Precision: 0.0270, Recall: 0.5000, F1: 0.0513\n",
      "Epoch 34/50, Loss: 7.1893, Precision: 0.0286, Recall: 0.5000, F1: 0.0541\n",
      "Epoch 35/50, Loss: 6.9492, Precision: 0.0000, Recall: 0.0000, F1: 0.0000\n",
      "Epoch 36/50, Loss: 7.2657, Precision: 0.0323, Recall: 0.5000, F1: 0.0606\n",
      "Epoch 37/50, Loss: 7.0810, Precision: 0.0312, Recall: 0.5000, F1: 0.0588\n",
      "Epoch 38/50, Loss: 7.0552, Precision: 0.0323, Recall: 0.5000, F1: 0.0606\n",
      "Epoch 39/50, Loss: 7.1587, Precision: 0.0323, Recall: 0.5000, F1: 0.0606\n",
      "Epoch 40/50, Loss: 6.9577, Precision: 0.0286, Recall: 0.5000, F1: 0.0541\n",
      "Epoch 41/50, Loss: 6.8998, Precision: 0.0312, Recall: 0.5000, F1: 0.0588\n",
      "Epoch 42/50, Loss: 7.0325, Precision: 0.0312, Recall: 0.5000, F1: 0.0588\n",
      "Epoch 43/50, Loss: 6.9884, Precision: 0.0286, Recall: 0.5000, F1: 0.0541\n",
      "Epoch 44/50, Loss: 6.8603, Precision: 0.0333, Recall: 0.5000, F1: 0.0625\n",
      "Epoch 45/50, Loss: 7.0925, Precision: 0.0286, Recall: 0.5000, F1: 0.0541\n",
      "Epoch 46/50, Loss: 6.7039, Precision: 0.0286, Recall: 0.5000, F1: 0.0541\n",
      "Epoch 47/50, Loss: 7.1579, Precision: 0.0345, Recall: 0.5000, F1: 0.0645\n",
      "Epoch 48/50, Loss: 7.0083, Precision: 0.0286, Recall: 0.5000, F1: 0.0541\n",
      "Epoch 49/50, Loss: 7.0169, Precision: 0.0323, Recall: 0.5000, F1: 0.0606\n",
      "Epoch 50/50, Loss: 6.9061, Precision: 0.0345, Recall: 0.5000, F1: 0.0645\n",
      "Accuracy: 0.8324\n"
     ]
    }
   ],
   "source": [
    "train_improved_model(model, train_loader, test_loader, 50, 0.001)"
   ]
  },
  {
   "cell_type": "markdown",
   "id": "65b48dba-66a5-4a6b-acc7-f98bf97b9204",
   "metadata": {},
   "source": [
    "Changing the threshold to 0.5 increases the accuracy to around 91% but sets all other metrics to 0, and this loss in accuracy isn't justifiable in terms of the precision and recall increase."
   ]
  }
 ],
 "metadata": {
  "kernelspec": {
   "display_name": "Python 3 (ipykernel)",
   "language": "python",
   "name": "python3"
  },
  "language_info": {
   "codemirror_mode": {
    "name": "ipython",
    "version": 3
   },
   "file_extension": ".py",
   "mimetype": "text/x-python",
   "name": "python",
   "nbconvert_exporter": "python",
   "pygments_lexer": "ipython3",
   "version": "3.11.9"
  }
 },
 "nbformat": 4,
 "nbformat_minor": 5
}
